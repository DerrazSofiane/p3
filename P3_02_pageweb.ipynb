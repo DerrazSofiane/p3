{
 "cells": [
  {
   "cell_type": "code",
   "execution_count": 1,
   "metadata": {
    "tags": [
     "parameters"
    ]
   },
   "outputs": [],
   "source": [
    "flex_title = \"Analyse nutritionnelle des produits français\"\n",
    "flex_subtitle = \"Données Open Food Facts\"\n",
    "flex_include_source = True\n",
    "flex_orientation = \"rows\""
   ]
  },
  {
   "cell_type": "code",
   "execution_count": 2,
   "metadata": {},
   "outputs": [],
   "source": [
    "import numpy as np\n",
    "import pandas as pd\n",
    "\n",
    "import plotly.graph_objects as go\n",
    "import plotly.express as px\n",
    "import plotly.figure_factory as ff\n",
    "import matplotlib.pyplot as plt\n",
    "\n",
    "from IPython.display import display\n",
    "from IPython.display import clear_output\n",
    "import ipywidgets as widgets"
   ]
  },
  {
   "cell_type": "code",
   "execution_count": 3,
   "metadata": {},
   "outputs": [
    {
     "name": "stderr",
     "output_type": "stream",
     "text": [
      "c:\\python39\\lib\\site-packages\\IPython\\core\\interactiveshell.py:3169: DtypeWarning: Columns (0,3,5,26,27,28,36) have mixed types.Specify dtype option on import or set low_memory=False.\n",
      "  has_raised = await self.run_ast_nodes(code_ast.body, cell_name,\n"
     ]
    }
   ],
   "source": [
    "data = pd.read_csv(\"data/fr.openfoodfacts.org.products.cleaned.csv\", low_memory=False)"
   ]
  },
  {
   "cell_type": "markdown",
   "metadata": {
    "tags": [
     "sidebar"
    ]
   },
   "source": [
    "# Sidebar"
   ]
  },
  {
   "cell_type": "markdown",
   "metadata": {},
   "source": [
    "### Filtre"
   ]
  },
  {
   "cell_type": "code",
   "execution_count": 4,
   "metadata": {
    "tags": [
     "body"
    ]
   },
   "outputs": [
    {
     "data": {
      "application/vnd.jupyter.widget-view+json": {
       "model_id": "733e96c5edf9422597a532f68cc29e18",
       "version_major": 2,
       "version_minor": 0
      },
      "text/plain": [
       "VBox(children=(Label(value='Nutri-Score :'), Dropdown(index=1, options=('Tous les grades', 'a', 'b', 'c', 'd',…"
      ]
     },
     "metadata": {},
     "output_type": "display_data"
    }
   ],
   "source": [
    "components = []\n",
    "\n",
    "nutri = [\"Tous les grades\", \"a\", \"b\", \"c\", \"d\", \"e\"]\n",
    "\n",
    "brands = [\n",
    "     \"Tous les distributeurs\",\n",
    "     \"carrefour\",\n",
    "     \"auchan\",\n",
    "     \"u\",\n",
    "     \"leader-price\",\n",
    "     \"casino\",\n",
    "     \"cora\",\n",
    "     \"picard\",\n",
    "     \"monoprix\",\n",
    "     \"fleury-michon\",\n",
    "     \"nestle\"]\n",
    "\n",
    "nutri_label = widgets.Label(value=\"Nutri-Score :\")\n",
    "nutri_score = widgets.Dropdown(options=nutri, value=\"a\")\n",
    "components.extend([nutri_label, nutri_score])\n",
    "\n",
    "\n",
    "brands_label = widgets.Label(value=\"Distributeur :\")\n",
    "brands_score = widgets.Dropdown(options=brands, value=\"Tous les distributeurs\")\n",
    "components.extend([brands_label, brands_score])\n",
    "\n",
    "\n",
    "products_text = widgets.Textarea(value='Tous les produits',\n",
    "                                 placeholder='Ecrire quelque chose',\n",
    "                                 description='Produit :',\n",
    "                                 disabled=False\n",
    "                                 )\n",
    "\n",
    "display(widgets.VBox([nutri_label, nutri_score, brands_label,\n",
    "        brands_score, products_text]))"
   ]
  },
  {
   "cell_type": "markdown",
   "metadata": {},
   "source": [
    "### Variables et Widgets"
   ]
  },
  {
   "cell_type": "code",
   "execution_count": 5,
   "metadata": {
    "scrolled": true,
    "tags": [
     "body"
    ]
   },
   "outputs": [
    {
     "data": {
      "application/vnd.jupyter.widget-view+json": {
       "model_id": "d61d2eed6de940139155346fcfb9848d",
       "version_major": 2,
       "version_minor": 0
      },
      "text/plain": [
       "VBox(children=(Label(value='Variable horizontale X:'), Dropdown(index=2, options=(('nutrition-score-fr_100g', …"
      ]
     },
     "metadata": {},
     "output_type": "display_data"
    }
   ],
   "source": [
    "components = []\n",
    "\n",
    "axis_map_x = {\n",
    "    \"nutrition-score-fr_100g\": \"nutrition-score-fr_100g\",   \n",
    "    \"proteins_100g\": \"proteins_100g\",\n",
    "    \"sugars_100g\": \"sugars_100g\",\n",
    "    \"fat_100g\": \"fat_100g\",\n",
    "    \"saturated-fat_100g\": \"saturated-fat_100g\",\n",
    "    \"vitamin-d_100g\":\"vitamin-d_100g\",\n",
    "    \"vitamin-c_100g\":\"vitamin-c_100g\",  \n",
    "    \"sodium_100g\":\"sodium_100g\",\n",
    "    \"potassium_100g\":\"potassium_100g\",\n",
    "    \"calcium_100g\":\"calcium_100g\",\n",
    "    \"magnesium_100g\":\"magnesium_100g\",\n",
    "    \"iron_100g\":\"iron_100g\",\n",
    "    \"zinc_100g\":\"zinc_100g\",\n",
    "}\n",
    "    \n",
    "axis_map_y = {\n",
    "    \"nutrition-score-fr_100g\": \"nutrition-score-fr_100g\",   \n",
    "    \"proteins_100g\": \"proteins_100g\",\n",
    "    \"sugars_100g\": \"sugars_100g\",\n",
    "    \"fat_100g\": \"fat_100g\",\n",
    "    \"saturated-fat_100g\": \"saturated-fat_100g\",\n",
    "    \"vitamin-d_100g\":\"vitamin-d_100g\",\n",
    "    \"vitamin-c_100g\":\"vitamin-c_100g\",  \n",
    "    \"sodium_100g\":\"sodium_100g\",\n",
    "    \"potassium_100g\":\"potassium_100g\",\n",
    "    \"calcium_100g\":\"calcium_100g\",\n",
    "    \"magnesium_100g\":\"magnesium_100g\",\n",
    "    \"iron_100g\":\"iron_100g\",\n",
    "    \"zinc_100g\":\"zinc_100g\",\n",
    "}\n",
    "    \n",
    "x_axis_label = widgets.Label(value=\"Variable horizontale X:\")\n",
    "x_axis = widgets.Dropdown(options=list(axis_map_x.items()), value=\"sugars_100g\")\n",
    "components.extend([x_axis_label, x_axis])\n",
    "\n",
    "y_axis_label = widgets.Label(value=\"Variable verticale Y:\")\n",
    "y_axis = widgets.Dropdown(options=list(axis_map_y.items()), value=\"proteins_100g\")\n",
    "components.extend([y_axis_label, y_axis])\n",
    "\n",
    "note = \"Note: Les scores nutrition fr s'étendent de -15 à +40.\"\n",
    "note_label = widgets.Label(value=note)\n",
    "components.append(note_label)\n",
    "\n",
    "display(widgets.VBox([x_axis_label, x_axis, y_axis_label, y_axis]))"
   ]
  },
  {
   "cell_type": "markdown",
   "metadata": {},
   "source": [
    "# Graphique"
   ]
  },
  {
   "cell_type": "markdown",
   "metadata": {},
   "source": [
    "### Nuage de points"
   ]
  },
  {
   "cell_type": "code",
   "execution_count": 6,
   "metadata": {
    "tags": [
     "source"
    ]
   },
   "outputs": [],
   "source": [
    "out = widgets.Output()"
   ]
  },
  {
   "cell_type": "code",
   "execution_count": 7,
   "metadata": {
    "tags": [
     "source"
    ]
   },
   "outputs": [],
   "source": [
    "cols = ['code','url','product_name','brands_tags','main_category_fr','nutrition_grade_fr',\n",
    "        'nutrition-score-fr_100g','nutrition-score-uk_100g','proteins_100g', 'sugars_100g', \n",
    "        'fat_100g', 'saturated-fat_100g','omega-3-fat_100g','cholesterol_100g', 'fiber_100g',\n",
    "        'vitamin-a_100g','vitamin-d_100g','vitamin-c_100g','sodium_100g',\n",
    "        'potassium_100g', 'calcium_100g','magnesium_100g', 'iron_100g', 'zinc_100g','caffeine_100g'] \n",
    "\n",
    "data_df = pd.DataFrame(data, columns=cols)\n",
    "\n",
    "fig = go.Figure()\n",
    "plot = go.Scatter(x=[], y=[], mode=\"markers\", text=[], hoverinfo=\"text\", marker=dict(color=[], size=7))\n",
    "fig.add_trace(plot)\n",
    "\n",
    "margin = go.layout.Margin(l=20, r=20, b=20, t=30)\n",
    "fig = fig.update_layout(margin=margin)"
   ]
  },
  {
   "cell_type": "code",
   "execution_count": 8,
   "metadata": {
    "tags": [
     "body"
    ]
   },
   "outputs": [],
   "source": [
    "def select_products():\n",
    "    selected = data_df\n",
    "    if (nutri_score.value != \"Tous les grades\"):\n",
    "        selected = selected[selected.nutrition_grade_fr.str.contains(nutri_score.value)==True]\n",
    "    if (brands_score.value != \"Tous les distributeurs\"):\n",
    "        selected = selected[selected.brands_tags.str.contains(brands_score.value)==True]\n",
    "    if (products_text.value != \"Tous les produits\"):\n",
    "        selected = selected[selected.product_name.str.contains(products_text.value)==True]\n",
    "    return selected\n",
    "\n",
    "\n",
    "def on_value_change(change):\n",
    "    with out:\n",
    "        \n",
    "        df = select_products()\n",
    "        x_name = x_axis.value\n",
    "        y_name = y_axis.value\n",
    "\n",
    "        fig.data[0]['x'] = df[x_name]\n",
    "        fig.data[0]['y'] = df[y_name]\n",
    "\n",
    "        if (nutri_score.value == \"a\"):\n",
    "            fig.data[0]['marker']['color'] = \"#038141\"\n",
    "        if (nutri_score.value == \"b\"):\n",
    "            fig.data[0]['marker']['color'] = \"#85bb2f\"\n",
    "        if (nutri_score.value == \"c\"):\n",
    "            fig.data[0]['marker']['color'] = \"#fecb02\"\n",
    "        if (nutri_score.value == \"d\"):\n",
    "            fig.data[0]['marker']['color'] = \"#ee8100\"\n",
    "        if (nutri_score.value == \"e\"):\n",
    "            fig.data[0]['marker']['color'] = \"#e63e11\"\n",
    "        if (nutri_score.value == \"All\"):\n",
    "            fig.data[0]['marker']['color'] = \"purple\"\n",
    "    \n",
    "        \n",
    "        fig.data[0]['text'] = df[\"product_name\"] + \"<br>\" + \"nutri score :\" + df[\"nutrition_grade_fr\"].astype(str) + \"<br>\" + \"marque :\" + df[\"brands_tags\"].astype(str)\n",
    "    \n",
    "        fig.update_xaxes(title_text=x_axis.label)\n",
    "        fig.update_yaxes(title_text=y_axis.label)\n",
    "        fig.update_layout(title=\"%d produits selectionnés\" % len(df))\n",
    "        \n",
    "        clear_output(wait=True)\n",
    "        fig.show()\n",
    "        \n",
    "\n",
    "nutri_score.observe(on_value_change, names=\"value\")\n",
    "x_axis.observe(on_value_change, names=\"value\")\n",
    "y_axis.observe(on_value_change, names=\"value\") \n",
    "brands_score.observe(on_value_change, names=\"value\")\n",
    "products_text.observe(on_value_change, names=\"value\")"
   ]
  },
  {
   "cell_type": "code",
   "execution_count": 9,
   "metadata": {
    "tags": [
     "body"
    ]
   },
   "outputs": [
    {
     "data": {
      "application/vnd.jupyter.widget-view+json": {
       "model_id": "1c2002a6baa34d759992999f95f3f01a",
       "version_major": 2,
       "version_minor": 0
      },
      "text/plain": [
       "Output()"
      ]
     },
     "metadata": {},
     "output_type": "display_data"
    }
   ],
   "source": [
    "on_value_change(None)\n",
    "out"
   ]
  }
 ],
 "metadata": {
  "celltoolbar": "Tags",
  "kernelspec": {
   "display_name": "Python 3",
   "language": "python",
   "name": "python3"
  },
  "language_info": {
   "codemirror_mode": {
    "name": "ipython",
    "version": 3
   },
   "file_extension": ".py",
   "mimetype": "text/x-python",
   "name": "python",
   "nbconvert_exporter": "python",
   "pygments_lexer": "ipython3",
   "version": "3.9.6"
  },
  "nbTranslate": {
   "displayLangs": [
    "*"
   ],
   "hotkey": "alt-t",
   "langInMainMenu": true,
   "sourceLang": "en",
   "targetLang": "fr",
   "useGoogleTranslate": true
  },
  "toc": {
   "base_numbering": 1,
   "nav_menu": {},
   "number_sections": true,
   "sideBar": true,
   "skip_h1_title": false,
   "title_cell": "Table of Contents",
   "title_sidebar": "Contents",
   "toc_cell": false,
   "toc_position": {},
   "toc_section_display": true,
   "toc_window_display": false
  }
 },
 "nbformat": 4,
 "nbformat_minor": 4
}
